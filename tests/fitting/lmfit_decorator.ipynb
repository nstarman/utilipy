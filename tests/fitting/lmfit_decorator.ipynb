{
 "cells": [
  {
   "cell_type": "code",
   "execution_count": 109,
   "metadata": {},
   "outputs": [],
   "source": [
    "import numpy as np\n",
    "import lmfit\n",
    "import wrapt\n",
    "import inspect"
   ]
  },
  {
   "cell_type": "markdown",
   "metadata": {},
   "source": [
    "scipy optimize"
   ]
  },
  {
   "cell_type": "code",
   "execution_count": 2,
   "metadata": {},
   "outputs": [],
   "source": [
    "def residual(vars, x, data, eps_data):\n",
    "    amp = vars[0]\n",
    "    phaseshift = vars[1]\n",
    "    freq = vars[2]\n",
    "    decay = vars[3]\n",
    "\n",
    "    model = amp * np.sin(x*freq + phaseshift) * np.exp(-x*x*decay)\n",
    "\n",
    "    return (data-model) / eps_data"
   ]
  },
  {
   "cell_type": "markdown",
   "metadata": {},
   "source": [
    "## lmfit"
   ]
  },
  {
   "cell_type": "code",
   "execution_count": 166,
   "metadata": {},
   "outputs": [],
   "source": [
    "def scipy_to_lmfit_residual(var_order:list):\n",
    "    \"\"\"\n",
    "    \n",
    "    Parameters\n",
    "    ----------\n",
    "    var_order : list\n",
    "        the variable order used by \n",
    "    \n",
    "    TODO\n",
    "    - make this a class so that it supports\n",
    "      scipy_to_lmfit_residual(func, var_order)\n",
    "      then it can be used to replace functions like\n",
    "      func = scipy_to_lmfit_residual(func, var_order)\n",
    "    - since using ObjectProxy, make it compatible with bound functions\n",
    "      see https://wrapt.readthedocs.io/en/latest/wrappers.html#function-wrappers\n",
    "    \"\"\"\n",
    "\n",
    "    class scipy_to_lmfit_residual(wrapt.ObjectProxy):\n",
    "\n",
    "        def __init__(self, wrapped):\n",
    "            super().__init__(wrapped)\n",
    "            self.var_order = var_order\n",
    "            return\n",
    "        # /def\n",
    "\n",
    "        def __call__(self, vars, *args, **kwargs):\n",
    "            return self.__wrapped__(vars, *args, **kwargs)\n",
    "        # /def\n",
    "\n",
    "        def lmfit(self, params, *args, **kwargs):\n",
    "            vars = [params[n].value for n in self.var_order]\n",
    "            return self.__wrapped__(vars, *args, **kwargs)\n",
    "        # /def\n",
    "    \n",
    "    return scipy_to_lmfit_residual"
   ]
  },
  {
   "cell_type": "code",
   "execution_count": 167,
   "metadata": {},
   "outputs": [],
   "source": [
    "@scipy_to_lmfit_residual(['amp', 'phaseshift', 'freq', 'decay'])\n",
    "def residual2(vars, x, data, eps_data):\n",
    "    \"\"\"test docstring\"\"\"\n",
    "    amp = vars[0]\n",
    "    phaseshift = vars[1]\n",
    "    freq = vars[2]\n",
    "    decay = vars[3]\n",
    "\n",
    "    model = amp * np.sin(x*freq + phaseshift) * np.exp(-x*x*decay)\n",
    "\n",
    "    return (data-model) / eps_data\n",
    "# /def"
   ]
  },
  {
   "cell_type": "code",
   "execution_count": 168,
   "metadata": {},
   "outputs": [
    {
     "data": {
      "text/plain": [
       "11.0"
      ]
     },
     "execution_count": 168,
     "metadata": {},
     "output_type": "execute_result"
    }
   ],
   "source": [
    "lmfit_residual([0, 1, 2, 3], 10, 11, 1)"
   ]
  },
  {
   "cell_type": "code",
   "execution_count": 169,
   "metadata": {},
   "outputs": [],
   "source": [
    "params = lmfit.Parameters()\n",
    "params.add_many(\n",
    "    ('amp', 0),\n",
    "    ('phaseshift', 1),\n",
    "    ('freq', 2),\n",
    "    ('decay', 3),\n",
    ")"
   ]
  },
  {
   "cell_type": "code",
   "execution_count": 170,
   "metadata": {},
   "outputs": [
    {
     "data": {
      "text/plain": [
       "11.0"
      ]
     },
     "execution_count": 170,
     "metadata": {},
     "output_type": "execute_result"
    }
   ],
   "source": [
    "residual2.lmfit(params, 10, 11, 1)"
   ]
  },
  {
   "cell_type": "code",
   "execution_count": null,
   "metadata": {},
   "outputs": [],
   "source": []
  },
  {
   "cell_type": "code",
   "execution_count": null,
   "metadata": {},
   "outputs": [],
   "source": []
  },
  {
   "cell_type": "code",
   "execution_count": null,
   "metadata": {},
   "outputs": [],
   "source": []
  }
 ],
 "metadata": {
  "kernelspec": {
   "display_name": "Python 3",
   "language": "python",
   "name": "python3"
  },
  "language_info": {
   "codemirror_mode": {
    "name": "ipython",
    "version": 3
   },
   "file_extension": ".py",
   "mimetype": "text/x-python",
   "name": "python",
   "nbconvert_exporter": "python",
   "pygments_lexer": "ipython3",
   "version": "3.7.1"
  }
 },
 "nbformat": 4,
 "nbformat_minor": 2
}
