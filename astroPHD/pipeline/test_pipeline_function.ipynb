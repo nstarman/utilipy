{
 "cells": [
  {
   "cell_type": "markdown",
   "metadata": {},
   "source": [
    "# Pipeline Testing Document"
   ]
  },
  {
   "cell_type": "code",
   "execution_count": 1,
   "metadata": {},
   "outputs": [],
   "source": [
    "import astroPHD\n",
    "from astroPHD.util.inspect import getfullerargspec\n",
    "from decorator import decorator\n",
    "from astroPHD.pipeline.pipeline_function import PipelineFunction"
   ]
  },
  {
   "cell_type": "code",
   "execution_count": 2,
   "metadata": {},
   "outputs": [],
   "source": [
    "def exfunc(x, y, a=.1, b=.2, *args, ll='l', mm='m', **kwargs):\n",
    "    \"\"\"exfunc doc\"\"\"\n",
    "    print(x, y, '  ', a, b, '  ', args, '  ', ll, mm, '  ', kwargs)\n",
    "    return x, y+a\n",
    "# /def\n",
    "\n",
    "def exfunc2(x, z, *, ll='l', nn='n'):\n",
    "    \"\"\"exfunc2 doc\"\"\"\n",
    "    print(x, z, '  ', a, c, '  ', '  ', ll, nn, '  ')\n",
    "    return x + z\n",
    "# /def"
   ]
  },
  {
   "cell_type": "code",
   "execution_count": 3,
   "metadata": {},
   "outputs": [
    {
     "data": {
      "text/plain": [
       "\u001b[0;31mInit signature:\u001b[0m \u001b[0mPipelineFunction\u001b[0m\u001b[0;34m(\u001b[0m\u001b[0mself\u001b[0m\u001b[0;34m,\u001b[0m \u001b[0mfunc\u001b[0m\u001b[0;34m,\u001b[0m \u001b[0moutargnames\u001b[0m\u001b[0;34m,\u001b[0m \u001b[0minargnames\u001b[0m\u001b[0;34m=\u001b[0m\u001b[0;32mNone\u001b[0m\u001b[0;34m,\u001b[0m \u001b[0mname\u001b[0m\u001b[0;34m=\u001b[0m\u001b[0;32mNone\u001b[0m\u001b[0;34m,\u001b[0m \u001b[0;34m**\u001b[0m\u001b[0mkw\u001b[0m\u001b[0;34m)\u001b[0m\u001b[0;34m\u001b[0m\u001b[0;34m\u001b[0m\u001b[0m\n",
       "\u001b[0;31mDocstring:\u001b[0m     \n",
       "Node of a Pipeline\n",
       "\n",
       "INFO\n",
       "----\n",
       "The signature is that of the underlying function\n",
       "The defaults for the pipeline can be seen in self._defaults  # TODO better method\n",
       "\n",
       "Parameters\n",
       "----------\n",
       "func : function\n",
       "\n",
       "outargnames: tuple, None\n",
       "    the names of the outputs of *func*\n",
       "    ** only used by next function in a Pipeline **\n",
       "    mandatory b/c python cannot introspect function returns\n",
       "    when used in a Pipeline, this is used by *inargnames* of the next\n",
       "    function, unless otherwise specified / overwritten\n",
       "\n",
       "inargnames : dict  # TODO\n",
       "    ** only used by previous function in a Pipeline **\n",
       "    for a dictionary of inputs *indict*, *inargnames* maps the keys of\n",
       "    *indict* to the (kw)args of *func*\n",
       "    *func* is introspected for the full set of possible keys, anything\n",
       "    not explicitly remapped by *inargnames* is assumed to be the same.\n",
       "        ex: for func(x, y, z) & inargnames = dict(x='a')\n",
       "            now the input to func is assumed to be func(a, y, z)\n",
       "\n",
       "    *inargnames* cannot remap keys to existing kw(arg) s.t. there are many\n",
       "    a KeyError will be raised in this case\n",
       "        ex: for func(x, y, z) & inargnames = dict(x='a')\n",
       "            this tries to do func(y, y, z), which is not permitted\n",
       "\n",
       "TODO\n",
       "----\n",
       "have a register_function_connection\n",
       "\u001b[0;31mInit docstring:\u001b[0m\n",
       "Node of a Pipeline\n",
       "\n",
       "Defaults\n",
       "--------\n",
       "The defaults for the pipeline can be seen in self._defaults  # TODO better method\n",
       "\n",
       "PipelineFunction Parameters\n",
       "---------------------------\n",
       "\u001b[0;31mType:\u001b[0m           type\n",
       "\u001b[0;31mSubclasses:\u001b[0m     \n"
      ]
     },
     "metadata": {},
     "output_type": "display_data"
    }
   ],
   "source": [
    "import importlib\n",
    "importlib.reload(astroPHD.pipeline.pipeline_function)\n",
    "from astroPHD.pipeline.pipeline_function import PipelineFunction\n",
    "\n",
    "PipelineFunction?"
   ]
  },
  {
   "cell_type": "code",
   "execution_count": 4,
   "metadata": {
    "collapsed": false,
    "inputHidden": false,
    "outputHidden": false
   },
   "outputs": [
    {
     "name": "stdout",
     "output_type": "stream",
     "text": [
      "('x', 'ypa')\n",
      "{'x': 'a'}\n",
      "1 2    4 0.2    ()    l m    {}\n"
     ]
    },
    {
     "data": {
      "text/plain": [
       "(1, 6)"
      ]
     },
     "execution_count": 4,
     "metadata": {},
     "output_type": "execute_result"
    }
   ],
   "source": [
    "FMfunc = PipelineFunction(exfunc, ('x', 'ypa'), {'x': 'a'}, a=.11, x=2.1, ll='ll', args=(1, 2))\n",
    "print(FMfunc._outargnames)\n",
    "print(FMfunc._inargnames)\n",
    "\n",
    "FMfunc(1, 2, a=4)"
   ]
  },
  {
   "cell_type": "code",
   "execution_count": 5,
   "metadata": {},
   "outputs": [
    {
     "name": "stdout",
     "output_type": "stream",
     "text": [
      "0 1    0.1 0.2    (2, 3, 5)    l m    {'kwtest': 'test'}\n",
      "{'xpy': 1}\n"
     ]
    },
    {
     "data": {
      "text/plain": [
       "\u001b[0;31mSignature:\u001b[0m      \u001b[0mFMfunc\u001b[0m\u001b[0;34m(\u001b[0m\u001b[0mx\u001b[0m\u001b[0;34m,\u001b[0m \u001b[0my\u001b[0m\u001b[0;34m,\u001b[0m \u001b[0ma\u001b[0m\u001b[0;34m=\u001b[0m\u001b[0;36m0.1\u001b[0m\u001b[0;34m,\u001b[0m \u001b[0mb\u001b[0m\u001b[0;34m=\u001b[0m\u001b[0;36m0.2\u001b[0m\u001b[0;34m,\u001b[0m \u001b[0;34m*\u001b[0m\u001b[0margs\u001b[0m\u001b[0;34m,\u001b[0m \u001b[0mll\u001b[0m\u001b[0;34m=\u001b[0m\u001b[0;34m'l'\u001b[0m\u001b[0;34m,\u001b[0m \u001b[0mmm\u001b[0m\u001b[0;34m=\u001b[0m\u001b[0;34m'm'\u001b[0m\u001b[0;34m,\u001b[0m \u001b[0;34m**\u001b[0m\u001b[0mkwargs\u001b[0m\u001b[0;34m)\u001b[0m\u001b[0;34m\u001b[0m\u001b[0;34m\u001b[0m\u001b[0m\n",
       "\u001b[0;31mDocstring:\u001b[0m     \n",
       "FMfu\n",
       "nc doc\n",
       "\u001b[0;31mInit docstring:\u001b[0m\n",
       "Node of a Pipeline\n",
       "\n",
       "Defaults\n",
       "--------\n",
       "The defaults for the pipeline can be seen in self._defaults  # TODO better method\n",
       "\n",
       "PipelineFunction Parameters\n",
       "---------------------------\n",
       "\u001b[0;31mFile:\u001b[0m           ~/src/astroPHD/pipeline/<ipython-input-5-fe631676365b>\n",
       "\u001b[0;31mType:\u001b[0m           PipelineFunction\n"
      ]
     },
     "metadata": {},
     "output_type": "display_data"
    }
   ],
   "source": [
    "@PipelineFunction.decorator('xpy')\n",
    "def FMfunc(x, y, a=.1, b=.2, *args, ll='l', mm='m', **kwargs):\n",
    "    \"\"\"FMfu\n",
    "    nc doc\"\"\"\n",
    "    print(x, y, '  ', a, b, '  ', args, '  ', ll, mm, '  ', kwargs)\n",
    "    return x + y\n",
    "# /def\n",
    "\n",
    "FMfunc?\n",
    "\n",
    "res = FMfunc.run(x=0, y=1, args=(2, 3, 5), kwtest='test')\n",
    "print(res)"
   ]
  },
  {
   "cell_type": "markdown",
   "metadata": {
    "inputHidden": false,
    "outputHidden": false
   },
   "source": [
    "# Pipeline"
   ]
  },
  {
   "cell_type": "code",
   "execution_count": 6,
   "metadata": {},
   "outputs": [],
   "source": [
    "@PipelineFunction.decorator(('x', 'ypa'),\n",
    "                            inargnames={'x': 'x'},\n",
    "                            name='FUNCTION 1',\n",
    "                            y=.2)\n",
    "def func1(x, y, a=.1, b=.2, *args, ll='l', mm='m', **kwargs):\n",
    "    \"\"\"exfunc doc\"\"\"\n",
    "    return x, y+a\n",
    "# /def\n",
    "\n",
    "@PipelineFunction.decorator(('z2'), inargnames={'ypa': 'z'},\n",
    "                            name='FUNCTION 2')\n",
    "def func2(x, z, *args, ll='l', nn='n'):\n",
    "    \"\"\"exfunc2 doc\"\"\"\n",
    "    return z + 2\n",
    "# /def\n",
    "\n",
    "# func1.run(x=1)"
   ]
  },
  {
   "cell_type": "code",
   "execution_count": 7,
   "metadata": {},
   "outputs": [
    {
     "data": {
      "text/plain": [
       "'FUNCTION 1'"
      ]
     },
     "execution_count": 7,
     "metadata": {},
     "output_type": "execute_result"
    }
   ],
   "source": [
    "func1.name\n"
   ]
  },
  {
   "cell_type": "code",
   "execution_count": 8,
   "metadata": {},
   "outputs": [
    {
     "name": "stdout",
     "output_type": "stream",
     "text": [
      "FUNCTION 1 {'x': 1} {'y': 0.2} ('x', 'ypa')\n",
      "FUNCTION 1 {'x': 1} {'y': 0.2}\n",
      "kw: {'x': 0.2, 'ypa': 1.1}\n",
      "FUNCTION 2 {'x': 0.2, 'ypa': 1.1} {} ('z2',)\n",
      "FUNCTION 2 {'x': 0.2, 'z': 1.1} {}\n",
      "kw: {'z2': 3.1}\n"
     ]
    },
    {
     "data": {
      "text/plain": [
       "{'z2': 3.1}"
      ]
     },
     "execution_count": 8,
     "metadata": {},
     "output_type": "execute_result"
    }
   ],
   "source": [
    "class Pipeline(object):\n",
    "\n",
    "    def __init__(self, *steps):\n",
    "        \"\"\"\n",
    "        steps : list\n",
    "            action class needs a .run method\n",
    "        \"\"\"\n",
    "\n",
    "        self.steps = steps\n",
    "        # TODO process functions which are not PipelineFunctions as (name, func)\n",
    "        # TODO steps should be a multi-linked list\n",
    "\n",
    "        return\n",
    "    # /def\n",
    "\n",
    "    def run(self, startkw={}, **stepsargs):\n",
    "        \"\"\"\n",
    "        \"\"\"\n",
    "        \n",
    "        # TODO stepsargs\n",
    "\n",
    "        kw = startkw  # input for first step\n",
    "\n",
    "        if set(startkw.keys()).difference(self.steps[0]._inargnames):\n",
    "            raise ValueError\n",
    "\n",
    "        for step in self.steps:\n",
    "\n",
    "#             stepkw = {k: kw[k] for k in step._inargnames if k in kw}\n",
    "            stepkw = kw  # TODO some check that a) passing right args b) not passing extra args?\n",
    "            stepkw.update(stepsargs.get(step.name, {}))\n",
    "\n",
    "            print(step.name, stepkw, step._defaults, step._outargnames)\n",
    "\n",
    "            kw = step.run(**stepkw)\n",
    "\n",
    "            print('kw:', kw)\n",
    "\n",
    "        return kw\n",
    "    # /def\n",
    "\n",
    "pipe = Pipeline(func1, func2)\n",
    "\n",
    "pipe.run({'x': 1})\n"
   ]
  },
  {
   "cell_type": "code",
   "execution_count": null,
   "metadata": {},
   "outputs": [],
   "source": []
  },
  {
   "cell_type": "code",
   "execution_count": null,
   "metadata": {},
   "outputs": [],
   "source": []
  }
 ],
 "metadata": {
  "kernel_info": {
   "name": "python3"
  },
  "kernelspec": {
   "display_name": "Python 3",
   "language": "python",
   "name": "python3"
  },
  "language_info": {
   "codemirror_mode": {
    "name": "ipython",
    "version": 3
   },
   "file_extension": ".py",
   "mimetype": "text/x-python",
   "name": "python",
   "nbconvert_exporter": "python",
   "pygments_lexer": "ipython3",
   "version": "3.7.1"
  },
  "nteract": {
   "version": "0.12.3"
  }
 },
 "nbformat": 4,
 "nbformat_minor": 2
}
