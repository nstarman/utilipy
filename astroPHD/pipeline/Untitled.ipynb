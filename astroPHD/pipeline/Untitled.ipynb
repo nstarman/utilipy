{
  "cells": [
    {
      "cell_type": "markdown",
      "source": [
        "# Pipeline Testing Document"
      ],
      "metadata": {}
    },
    {
      "cell_type": "code",
      "source": [
        "import starkython\n",
        "from starkython.util.inspect import getfullerargspec\n",
        "from decorator import decorator"
      ],
      "outputs": [],
      "execution_count": 1,
      "metadata": {}
    },
    {
      "cell_type": "code",
      "source": [
        "def exfunc(x, y, a=.1, b=.2, *args, ll='l', mm='m', **kwargs):\n",
        "    \"\"\"exfunc doc\"\"\"\n",
        "    print(x, y, '  ', a, b, '  ', args, '  ', ll, mm, '  ', kwargs)\n",
        "    return x, y+a\n",
        "# /def\n",
        "\n",
        "def exfunc2(x, z, *, ll='l', nn='n'):\n",
        "    \"\"\"exfunc2 doc\"\"\"\n",
        "    print(x, z, '  ', a, c, '  ', '  ', ll, nn, '  ')\n",
        "    return x + z\n",
        "# /def"
      ],
      "outputs": [],
      "execution_count": 2,
      "metadata": {}
    },
    {
      "cell_type": "code",
      "source": [
        "import importlib\n",
        "importlib.reload(starkython.pipeline.pipeline_function)\n",
        "from starkython.pipeline.pipeline_function import PipelineFunction\n",
        "\nPipelineFunction?"
      ],
      "outputs": [],
      "execution_count": 3,
      "metadata": {}
    },
    {
      "cell_type": "code",
      "source": [
        "FMfunc = PipelineFunction(exfunc, ('x', 'ypa'), {'x': 'a'}, a=.11, x=2.1, ll='ll', args=(1, 2))\n",
        "print(FMfunc._outargnames)\n",
        "print(FMfunc._inargnames)\n",
        "\nFMfunc(1, 2, a=4)"
      ],
      "outputs": [
        {
          "output_type": "stream",
          "name": "stdout",
          "text": [
            "('x', 'ypa')\n",
            "{'x': 'a'}\n",
            "1 2    4 0.2    ()    l m    {}\n"
          ]
        },
        {
          "output_type": "execute_result",
          "execution_count": 7,
          "data": {
            "text/plain": [
              "(1, 6)"
            ]
          },
          "metadata": {}
        }
      ],
      "execution_count": 7,
      "metadata": {
        "collapsed": false,
        "outputHidden": false,
        "inputHidden": false
      }
    },
    {
      "cell_type": "code",
      "source": [
        "# FMfunc = PipelineFunction(exfunc, ('x', 'ypa'), {'x': 'a'}, a=.11, x=2.1, ll='ll', args=(1, 2))\n",
        "# print(FMfunc._outargnames)\n",
        "# print(FMfunc._inargnames)\n",
        "\n",
        "@PipelineFunction.decorator('xpy')\n",
        "def FMfunc(x, y, a=.1, b=.2, *args, ll='l', mm='m', **kwargs):\n",
        "    \"\"\"FMfu\n",
        "    nc doc\"\"\"\n",
        "    print(x, y, '  ', a, b, '  ', args, '  ', ll, mm, '  ', kwargs)\n",
        "    return x + y\n",
        "# /def\n",
        "\n",
        "# FMfunc?\n",
        "\n",
        "res = FMfunc.run(x=0, y=1, args=(2, 3, 5), kwtest='test')\n",
        "print(res)"
      ],
      "outputs": [
        {
          "output_type": "stream",
          "name": "stdout",
          "text": [
            "[0, 1, 0.1, 0.2, 2, 3, 5] {'kwtest': 'test'}\n",
            "0 1    0.1 0.2    (2, 3, 5)    l m    {'kwtest': 'test'}\n",
            "{'xpy': 1}\n"
          ]
        }
      ],
      "execution_count": 8,
      "metadata": {}
    },
    {
      "cell_type": "code",
      "source": [],
      "outputs": [],
      "execution_count": 6,
      "metadata": {}
    }
  ],
  "metadata": {
    "kernelspec": {
      "name": "python3",
      "language": "python",
      "display_name": "Python 3"
    },
    "language_info": {
      "name": "python",
      "version": "3.7.1",
      "mimetype": "text/x-python",
      "codemirror_mode": {
        "name": "ipython",
        "version": 3
      },
      "pygments_lexer": "ipython3",
      "nbconvert_exporter": "python",
      "file_extension": ".py"
    },
    "kernel_info": {
      "name": "python3"
    },
    "nteract": {
      "version": "0.12.3"
    }
  },
  "nbformat": 4,
  "nbformat_minor": 2
}